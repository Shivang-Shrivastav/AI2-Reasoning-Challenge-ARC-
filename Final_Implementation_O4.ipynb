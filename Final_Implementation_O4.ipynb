{
  "cells": [
    {
      "cell_type": "code",
      "execution_count": null,
      "metadata": {
        "execution": {
          "iopub.execute_input": "2023-01-27T19:06:30.042786Z",
          "iopub.status.busy": "2023-01-27T19:06:30.042461Z",
          "iopub.status.idle": "2023-01-27T19:06:30.050891Z",
          "shell.execute_reply": "2023-01-27T19:06:30.050075Z",
          "shell.execute_reply.started": "2023-01-27T19:06:30.042727Z"
        },
        "id": "i_fU00vNnylO"
      },
      "outputs": [],
      "source": [
        "import os\n",
        "os.environ['CUDA_LAUNCH_BLOCKING'] = '1'\n",
        "os.environ[\"TOKENIZERS_PARALLELISM\"] = \"false\""
      ]
    },
    {
      "cell_type": "code",
      "execution_count": null,
      "metadata": {
        "execution": {
          "iopub.execute_input": "2023-01-27T19:06:30.052723Z",
          "iopub.status.busy": "2023-01-27T19:06:30.052488Z",
          "iopub.status.idle": "2023-01-27T19:06:30.061428Z",
          "shell.execute_reply": "2023-01-27T19:06:30.060720Z",
          "shell.execute_reply.started": "2023-01-27T19:06:30.052701Z"
        },
        "id": "8oEWQORmTcMi",
        "outputId": "365c0b91-da8d-4196-967b-05609886b095"
      },
      "outputs": [
        {
          "data": {
            "text/plain": [
              "'/notebooks'"
            ]
          },
          "execution_count": 2,
          "metadata": {},
          "output_type": "execute_result"
        }
      ],
      "source": [
        "pwd()"
      ]
    },
    {
      "cell_type": "code",
      "execution_count": null,
      "metadata": {
        "colab": {
          "base_uri": "https://localhost:8080/"
        },
        "execution": {
          "iopub.execute_input": "2023-01-27T19:06:30.062303Z",
          "iopub.status.busy": "2023-01-27T19:06:30.062129Z",
          "iopub.status.idle": "2023-01-27T19:06:32.415957Z",
          "shell.execute_reply": "2023-01-27T19:06:32.415169Z",
          "shell.execute_reply.started": "2023-01-27T19:06:30.062286Z"
        },
        "id": "HBSz46kDg7O2",
        "outputId": "4dbe5665-acf6-41db-d26f-f7171a994edd"
      },
      "outputs": [
        {
          "name": "stdout",
          "output_type": "stream",
          "text": [
            "Looking in indexes: https://pypi.org/simple, https://download.pytorch.org/whl/cu116\n",
            "Requirement already satisfied: torch in /usr/local/lib/python3.9/dist-packages (1.12.0+cu116)\n",
            "Requirement already satisfied: torchvision in /usr/local/lib/python3.9/dist-packages (0.13.0+cu116)\n",
            "Requirement already satisfied: torchaudio in /usr/local/lib/python3.9/dist-packages (0.12.0+cu116)\n",
            "Requirement already satisfied: typing-extensions in /usr/local/lib/python3.9/dist-packages (from torch) (4.3.0)\n",
            "Requirement already satisfied: requests in /usr/local/lib/python3.9/dist-packages (from torchvision) (2.28.1)\n",
            "Requirement already satisfied: numpy in /usr/local/lib/python3.9/dist-packages (from torchvision) (1.23.1)\n",
            "Requirement already satisfied: pillow!=8.3.*,>=5.3.0 in /usr/local/lib/python3.9/dist-packages (from torchvision) (9.2.0)\n",
            "Requirement already satisfied: certifi>=2017.4.17 in /usr/lib/python3/dist-packages (from requests->torchvision) (2019.11.28)\n",
            "Requirement already satisfied: urllib3<1.27,>=1.21.1 in /usr/local/lib/python3.9/dist-packages (from requests->torchvision) (1.26.10)\n",
            "Requirement already satisfied: charset-normalizer<3,>=2 in /usr/local/lib/python3.9/dist-packages (from requests->torchvision) (2.1.0)\n",
            "Requirement already satisfied: idna<4,>=2.5 in /usr/lib/python3/dist-packages (from requests->torchvision) (2.8)\n",
            "\u001b[33mWARNING: Running pip as the 'root' user can result in broken permissions and conflicting behaviour with the system package manager. It is recommended to use a virtual environment instead: https://pip.pypa.io/warnings/venv\u001b[0m\u001b[33m\n",
            "\u001b[0m"
          ]
        }
      ],
      "source": [
        "!pip3 install torch torchvision torchaudio --extra-index-url https://download.pytorch.org/whl/cu116"
      ]
    },
    {
      "cell_type": "code",
      "execution_count": null,
      "metadata": {
        "colab": {
          "base_uri": "https://localhost:8080/"
        },
        "execution": {
          "iopub.execute_input": "2023-01-27T19:06:32.417212Z",
          "iopub.status.busy": "2023-01-27T19:06:32.417011Z",
          "iopub.status.idle": "2023-01-27T19:06:38.405419Z",
          "shell.execute_reply": "2023-01-27T19:06:38.404443Z",
          "shell.execute_reply.started": "2023-01-27T19:06:32.417189Z"
        },
        "id": "Bk1V6wt5scsx",
        "outputId": "9af6eff4-0495-4832-ac59-175dfd7a46c9"
      },
      "outputs": [
        {
          "name": "stdout",
          "output_type": "stream",
          "text": [
            "Collecting datasets==1.0.2\n",
            "  Downloading datasets-1.0.2-py3-none-any.whl (1.8 MB)\n",
            "\u001b[2K     \u001b[90m━━━━━━━━━━━━━━━━━━━━━━━━━━━━━━━━━━━━━━━━\u001b[0m \u001b[32m1.8/1.8 MB\u001b[0m \u001b[31m68.9 MB/s\u001b[0m eta \u001b[36m0:00:00\u001b[0m\n",
            "\u001b[?25hRequirement already satisfied: requests>=2.19.0 in /usr/local/lib/python3.9/dist-packages (from datasets==1.0.2) (2.28.1)\n",
            "Requirement already satisfied: xxhash in /usr/local/lib/python3.9/dist-packages (from datasets==1.0.2) (3.0.0)\n",
            "Requirement already satisfied: pyarrow>=0.17.1 in /usr/local/lib/python3.9/dist-packages (from datasets==1.0.2) (8.0.0)\n",
            "Requirement already satisfied: numpy>=1.17 in /usr/local/lib/python3.9/dist-packages (from datasets==1.0.2) (1.23.1)\n",
            "Requirement already satisfied: dill in /usr/local/lib/python3.9/dist-packages (from datasets==1.0.2) (0.3.5.1)\n",
            "Requirement already satisfied: pandas in /usr/local/lib/python3.9/dist-packages (from datasets==1.0.2) (1.4.3)\n",
            "Requirement already satisfied: tqdm>=4.27 in /usr/local/lib/python3.9/dist-packages (from datasets==1.0.2) (4.64.0)\n",
            "Requirement already satisfied: filelock in /usr/local/lib/python3.9/dist-packages (from datasets==1.0.2) (3.7.1)\n",
            "Requirement already satisfied: urllib3<1.27,>=1.21.1 in /usr/local/lib/python3.9/dist-packages (from requests>=2.19.0->datasets==1.0.2) (1.26.10)\n",
            "Requirement already satisfied: charset-normalizer<3,>=2 in /usr/local/lib/python3.9/dist-packages (from requests>=2.19.0->datasets==1.0.2) (2.1.0)\n",
            "Requirement already satisfied: certifi>=2017.4.17 in /usr/lib/python3/dist-packages (from requests>=2.19.0->datasets==1.0.2) (2019.11.28)\n",
            "Requirement already satisfied: idna<4,>=2.5 in /usr/lib/python3/dist-packages (from requests>=2.19.0->datasets==1.0.2) (2.8)\n",
            "Requirement already satisfied: pytz>=2020.1 in /usr/local/lib/python3.9/dist-packages (from pandas->datasets==1.0.2) (2022.1)\n",
            "Requirement already satisfied: python-dateutil>=2.8.1 in /usr/local/lib/python3.9/dist-packages (from pandas->datasets==1.0.2) (2.8.2)\n",
            "Requirement already satisfied: six>=1.5 in /usr/lib/python3/dist-packages (from python-dateutil>=2.8.1->pandas->datasets==1.0.2) (1.14.0)\n",
            "Installing collected packages: datasets\n",
            "  Attempting uninstall: datasets\n",
            "    Found existing installation: datasets 2.3.2\n",
            "    Uninstalling datasets-2.3.2:\n",
            "      Successfully uninstalled datasets-2.3.2\n",
            "Successfully installed datasets-1.0.2\n",
            "\u001b[33mWARNING: Running pip as the 'root' user can result in broken permissions and conflicting behaviour with the system package manager. It is recommended to use a virtual environment instead: https://pip.pypa.io/warnings/venv\u001b[0m\u001b[33m\n",
            "\u001b[0mCollecting tqdm==4.57.0\n",
            "  Downloading tqdm-4.57.0-py2.py3-none-any.whl (72 kB)\n",
            "\u001b[2K     \u001b[90m━━━━━━━━━━━━━━━━━━━━━━━━━━━━━━━━━━━━━━━━\u001b[0m \u001b[32m73.0/73.0 kB\u001b[0m \u001b[31m16.7 MB/s\u001b[0m eta \u001b[36m0:00:00\u001b[0m\n",
            "\u001b[?25hInstalling collected packages: tqdm\n",
            "  Attempting uninstall: tqdm\n",
            "    Found existing installation: tqdm 4.64.0\n",
            "    Uninstalling tqdm-4.64.0:\n",
            "      Successfully uninstalled tqdm-4.64.0\n",
            "Successfully installed tqdm-4.57.0\n",
            "\u001b[33mWARNING: Running pip as the 'root' user can result in broken permissions and conflicting behaviour with the system package manager. It is recommended to use a virtual environment instead: https://pip.pypa.io/warnings/venv\u001b[0m\u001b[33m\n",
            "\u001b[0m"
          ]
        }
      ],
      "source": [
        "!pip install datasets==1.0.2\n",
        "!pip install tqdm==4.57.0"
      ]
    },
    {
      "cell_type": "code",
      "execution_count": null,
      "metadata": {
        "colab": {
          "base_uri": "https://localhost:8080/"
        },
        "execution": {
          "iopub.execute_input": "2023-01-27T19:06:38.408076Z",
          "iopub.status.busy": "2023-01-27T19:06:38.407810Z",
          "iopub.status.idle": "2023-01-27T19:06:41.527220Z",
          "shell.execute_reply": "2023-01-27T19:06:41.526286Z",
          "shell.execute_reply.started": "2023-01-27T19:06:38.408054Z"
        },
        "id": "ynxRam7mtovU",
        "outputId": "5a788947-2262-4889-c6d6-9c19873db32e"
      },
      "outputs": [
        {
          "name": "stdout",
          "output_type": "stream",
          "text": [
            "mkdir: cannot create directory ‘/notebooks/t5’: File exists\n",
            "mkdir: cannot create directory ‘/notebooks/t5/dataset’: File exists\n",
            "mkdir: cannot create directory ‘/notebooks/t5/model’: File exists\n",
            "mkdir: cannot create directory ‘/notebooks/t5/tokenizer’: File exists\n",
            "'PaperSpace_Final_implementation_04 (1).ipynb'\t easy_training.csv\n",
            " README.md\t\t\t\t\t lightning_logs\n",
            " challenge_testing.csv\t\t\t\t quick_start_pytorch.ipynb\n",
            " challenge_training.csv\t\t\t\t quick_start_pytorch_images\n",
            " easy_testing.csv\t\t\t\t t5\n"
          ]
        }
      ],
      "source": [
        "!mkdir '/notebooks/t5'\n",
        "!mkdir '/notebooks/t5/dataset'\n",
        "!mkdir '/notebooks/t5/model'\n",
        "!mkdir '/notebooks/t5/tokenizer'\n",
        "!ls"
      ]
    },
    {
      "cell_type": "code",
      "execution_count": null,
      "metadata": {
        "execution": {
          "iopub.execute_input": "2023-01-27T19:06:41.528569Z",
          "iopub.status.busy": "2023-01-27T19:06:41.528351Z",
          "iopub.status.idle": "2023-01-27T19:06:45.874173Z",
          "shell.execute_reply": "2023-01-27T19:06:45.873563Z",
          "shell.execute_reply.started": "2023-01-27T19:06:41.528545Z"
        },
        "id": "mprXj8sXtRKz"
      },
      "outputs": [],
      "source": [
        "from datasets import load_dataset"
      ]
    },
    {
      "cell_type": "code",
      "execution_count": null,
      "metadata": {
        "execution": {
          "iopub.execute_input": "2023-01-27T19:06:45.875863Z",
          "iopub.status.busy": "2023-01-27T19:06:45.874957Z",
          "iopub.status.idle": "2023-01-27T19:06:45.878529Z",
          "shell.execute_reply": "2023-01-27T19:06:45.878044Z",
          "shell.execute_reply.started": "2023-01-27T19:06:45.875837Z"
        },
        "id": "moi4o2hlxJvc"
      },
      "outputs": [],
      "source": [
        "import pandas as pd"
      ]
    },
    {
      "cell_type": "markdown",
      "metadata": {
        "id": "L4D0OZzQaB3I"
      },
      "source": [
        "## 2. Train T5 transformer model"
      ]
    },
    {
      "cell_type": "code",
      "execution_count": null,
      "metadata": {
        "colab": {
          "base_uri": "https://localhost:8080/"
        },
        "execution": {
          "iopub.execute_input": "2023-01-27T19:06:45.879721Z",
          "iopub.status.busy": "2023-01-27T19:06:45.879166Z",
          "iopub.status.idle": "2023-01-27T19:07:59.719219Z",
          "shell.execute_reply": "2023-01-27T19:07:59.718427Z",
          "shell.execute_reply.started": "2023-01-27T19:06:45.879698Z"
        },
        "id": "WhRIV6wXSFbH",
        "outputId": "7d70bacd-be5b-4725-c254-f0e4d84a868e"
      },
      "outputs": [
        {
          "name": "stdout",
          "output_type": "stream",
          "text": [
            "\u001b[31mERROR: pip's dependency resolver does not currently take into account all the packages that are installed. This behaviour is the source of the following dependency conflicts.\n",
            "sentence-transformers 2.2.2 requires transformers<5.0.0,>=4.6.0, but you have transformers 4.1.1 which is incompatible.\u001b[0m\u001b[31m\n",
            "\u001b[0m\u001b[33mWARNING: Running pip as the 'root' user can result in broken permissions and conflicting behaviour with the system package manager. It is recommended to use a virtual environment instead: https://pip.pypa.io/warnings/venv\u001b[0m\u001b[33m\n",
            "\u001b[0m\u001b[33mWARNING: Running pip as the 'root' user can result in broken permissions and conflicting behaviour with the system package manager. It is recommended to use a virtual environment instead: https://pip.pypa.io/warnings/venv\u001b[0m\u001b[33m\n",
            "\u001b[0m\u001b[31mERROR: pip's dependency resolver does not currently take into account all the packages that are installed. This behaviour is the source of the following dependency conflicts.\n",
            "sentence-transformers 2.2.2 requires transformers<5.0.0,>=4.6.0, but you have transformers 4.1.1 which is incompatible.\u001b[0m\u001b[31m\n",
            "\u001b[0m\u001b[33mWARNING: Running pip as the 'root' user can result in broken permissions and conflicting behaviour with the system package manager. It is recommended to use a virtual environment instead: https://pip.pypa.io/warnings/venv\u001b[0m\u001b[33m\n",
            "\u001b[0m\u001b[33mWARNING: Running pip as the 'root' user can result in broken permissions and conflicting behaviour with the system package manager. It is recommended to use a virtual environment instead: https://pip.pypa.io/warnings/venv\u001b[0m\u001b[33m\n",
            "\u001b[0m\u001b[31mERROR: pip's dependency resolver does not currently take into account all the packages that are installed. This behaviour is the source of the following dependency conflicts.\n",
            "gradient 2.0.5 requires PyYAML==5.*, but you have pyyaml 6.0 which is incompatible.\u001b[0m\u001b[31m\n",
            "\u001b[0m\u001b[33mWARNING: Running pip as the 'root' user can result in broken permissions and conflicting behaviour with the system package manager. It is recommended to use a virtual environment instead: https://pip.pypa.io/warnings/venv\u001b[0m\u001b[33m\n",
            "\u001b[0m\u001b[31mERROR: pip's dependency resolver does not currently take into account all the packages that are installed. This behaviour is the source of the following dependency conflicts.\n",
            "torchvision 0.13.0+cu116 requires torch==1.12.0, but you have torch 1.9.0 which is incompatible.\n",
            "torchaudio 0.12.0+cu116 requires torch==1.12.0, but you have torch 1.9.0 which is incompatible.\n",
            "sentence-transformers 2.2.2 requires transformers<5.0.0,>=4.6.0, but you have transformers 4.1.1 which is incompatible.\u001b[0m\u001b[31m\n",
            "\u001b[0m\u001b[33mWARNING: Running pip as the 'root' user can result in broken permissions and conflicting behaviour with the system package manager. It is recommended to use a virtual environment instead: https://pip.pypa.io/warnings/venv\u001b[0m\u001b[33m\n",
            "\u001b[0m"
          ]
        }
      ],
      "source": [
        "!pip install --quiet transformers==4.1.1\n",
        "!pip install --quiet tokenizers==0.9.4 \n",
        "!pip install --quiet sentencepiece==0.1.94\n",
        "!pip install --quiet tqdm==4.57.0\n",
        "!pip install --quiet pytorch-lightning==1.2.10\n",
        "!pip install --quiet torchtext==0.10.0\n",
        "\n",
        "# !pip install --quiet transformers==4.1.1\n",
        "# !pip install --quiet pytorch-lightning==1.1.3\n",
        "# !pip install --quiet tokenizers==0.9.4 \n",
        "# !pip install --quiet sentencepiece==0.1.94\n",
        "# !pip install --quiet tqdm==4.56.0\n",
        "# !pip install --quiet torchtext==0.8.1"
      ]
    },
    {
      "cell_type": "code",
      "execution_count": null,
      "metadata": {
        "colab": {
          "base_uri": "https://localhost:8080/",
          "height": 661
        },
        "execution": {
          "iopub.execute_input": "2023-01-27T19:07:59.720564Z",
          "iopub.status.busy": "2023-01-27T19:07:59.720314Z",
          "iopub.status.idle": "2023-01-27T19:09:00.191413Z",
          "shell.execute_reply": "2023-01-27T19:09:00.190431Z",
          "shell.execute_reply.started": "2023-01-27T19:07:59.720537Z"
        },
        "id": "SZbpA-28kE9y",
        "outputId": "1d2e2c8b-9bea-40ef-dcd7-85d08a350141"
      },
      "outputs": [
        {
          "name": "stdout",
          "output_type": "stream",
          "text": [
            "Looking in links: https://download.pytorch.org/whl/torch_stable.html\n",
            "Collecting torch==1.9.0+cu111\n",
            "  Downloading https://download.pytorch.org/whl/cu111/torch-1.9.0%2Bcu111-cp39-cp39-linux_x86_64.whl (2041.4 MB)\n",
            "\u001b[2K     \u001b[90m━━━━━━━━━━━━━━━━━━━━━━━━━━━━━━━━━━━━━━━━\u001b[0m \u001b[32m2.0/2.0 GB\u001b[0m \u001b[31m999.2 kB/s\u001b[0m eta \u001b[36m0:00:00\u001b[0m00:01\u001b[0m00:01\u001b[0m\n",
            "\u001b[?25hCollecting torchvision==0.10.0+cu111\n",
            "  Downloading https://download.pytorch.org/whl/cu111/torchvision-0.10.0%2Bcu111-cp39-cp39-linux_x86_64.whl (23.1 MB)\n",
            "\u001b[2K     \u001b[90m━━━━━━━━━━━━━━━━━━━━━━━━━━━━━━━━━━━━━━━━\u001b[0m \u001b[32m23.1/23.1 MB\u001b[0m \u001b[31m61.8 MB/s\u001b[0m eta \u001b[36m0:00:00\u001b[0m00:01\u001b[0m00:01\u001b[0m\n",
            "\u001b[?25hCollecting torchaudio==0.9.0\n",
            "  Downloading torchaudio-0.9.0-cp39-cp39-manylinux1_x86_64.whl (1.9 MB)\n",
            "\u001b[2K     \u001b[90m━━━━━━━━━━━━━━━━━━━━━━━━━━━━━━━━━━━━━━━━\u001b[0m \u001b[32m1.9/1.9 MB\u001b[0m \u001b[31m79.6 MB/s\u001b[0m eta \u001b[36m0:00:00\u001b[0m\n",
            "\u001b[?25hRequirement already satisfied: typing-extensions in /usr/local/lib/python3.9/dist-packages (from torch==1.9.0+cu111) (4.3.0)\n",
            "Requirement already satisfied: numpy in /usr/local/lib/python3.9/dist-packages (from torchvision==0.10.0+cu111) (1.23.1)\n",
            "Requirement already satisfied: pillow>=5.3.0 in /usr/local/lib/python3.9/dist-packages (from torchvision==0.10.0+cu111) (9.2.0)\n",
            "Installing collected packages: torch, torchvision, torchaudio\n",
            "  Attempting uninstall: torch\n",
            "    Found existing installation: torch 1.9.0\n",
            "    Uninstalling torch-1.9.0:\n",
            "      Successfully uninstalled torch-1.9.0\n",
            "  Attempting uninstall: torchvision\n",
            "    Found existing installation: torchvision 0.13.0+cu116\n",
            "    Uninstalling torchvision-0.13.0+cu116:\n",
            "      Successfully uninstalled torchvision-0.13.0+cu116\n",
            "  Attempting uninstall: torchaudio\n",
            "    Found existing installation: torchaudio 0.12.0+cu116\n",
            "    Uninstalling torchaudio-0.12.0+cu116:\n",
            "      Successfully uninstalled torchaudio-0.12.0+cu116\n",
            "\u001b[31mERROR: pip's dependency resolver does not currently take into account all the packages that are installed. This behaviour is the source of the following dependency conflicts.\n",
            "sentence-transformers 2.2.2 requires transformers<5.0.0,>=4.6.0, but you have transformers 4.1.1 which is incompatible.\u001b[0m\u001b[31m\n",
            "\u001b[0mSuccessfully installed torch-1.9.0+cu111 torchaudio-0.9.0 torchvision-0.10.0+cu111\n",
            "\u001b[33mWARNING: Running pip as the 'root' user can result in broken permissions and conflicting behaviour with the system package manager. It is recommended to use a virtual environment instead: https://pip.pypa.io/warnings/venv\u001b[0m\u001b[33m\n",
            "\u001b[0m"
          ]
        }
      ],
      "source": [
        "!pip3 install torch==1.9.0+cu111 torchvision==0.10.0+cu111 torchaudio==0.9.0 -f https://download.pytorch.org/whl/torch_stable.html"
      ]
    },
    {
      "cell_type": "code",
      "execution_count": null,
      "metadata": {
        "id": "qL7fB9tIVXib"
      },
      "outputs": [],
      "source": [
        "# restart runtime\n",
        "import os\n",
        "\n",
        "def restart_runtime():\n",
        "  os.kill(os.getpid(), 9)\n",
        "\n",
        "restart_runtime()"
      ]
    },
    {
      "cell_type": "code",
      "execution_count": null,
      "metadata": {
        "execution": {
          "iopub.execute_input": "2023-01-27T19:14:08.615232Z",
          "iopub.status.busy": "2023-01-27T19:14:08.614553Z",
          "iopub.status.idle": "2023-01-27T19:14:08.618882Z",
          "shell.execute_reply": "2023-01-27T19:14:08.618235Z",
          "shell.execute_reply.started": "2023-01-27T19:14:08.615164Z"
        },
        "id": "PajHk_rKaHgU"
      },
      "outputs": [],
      "source": [
        "# train_file_path = '/content/drive/My Drive/t5/dataset/squad_t5_train.csv'\n",
        "# validation_file_path = '/content/drive/My Drive/t5/dataset/squad_t5_val.csv'"
      ]
    },
    {
      "cell_type": "code",
      "execution_count": null,
      "metadata": {
        "execution": {
          "iopub.execute_input": "2023-01-27T19:14:08.814890Z",
          "iopub.status.busy": "2023-01-27T19:14:08.814330Z",
          "iopub.status.idle": "2023-01-27T19:14:08.821208Z",
          "shell.execute_reply": "2023-01-27T19:14:08.820585Z",
          "shell.execute_reply.started": "2023-01-27T19:14:08.814867Z"
        },
        "id": "U_TMFMZ29NyS"
      },
      "outputs": [],
      "source": [
        "import os\n",
        "os.environ['CUDA_LAUNCH_BLOCKING'] = '1'\n",
        "os.environ[\"TOKENIZERS_PARALLELISM\"] = \"false\""
      ]
    },
    {
      "cell_type": "code",
      "execution_count": null,
      "metadata": {
        "colab": {
          "base_uri": "https://localhost:8080/"
        },
        "execution": {
          "iopub.execute_input": "2023-01-27T19:14:09.055176Z",
          "iopub.status.busy": "2023-01-27T19:14:09.054429Z",
          "iopub.status.idle": "2023-01-27T19:14:10.013973Z",
          "shell.execute_reply": "2023-01-27T19:14:10.012867Z",
          "shell.execute_reply.started": "2023-01-27T19:14:09.055145Z"
        },
        "id": "ojc3j-S6VS_t",
        "outputId": "fbbcabcb-f9c9-4e77-c902-df713f8001dd"
      },
      "outputs": [
        {
          "name": "stdout",
          "output_type": "stream",
          "text": [
            "Fri Jan 27 19:14:09 2023       \n",
            "+-----------------------------------------------------------------------------+\n",
            "| NVIDIA-SMI 510.73.05    Driver Version: 510.73.05    CUDA Version: 11.6     |\n",
            "|-------------------------------+----------------------+----------------------+\n",
            "| GPU  Name        Persistence-M| Bus-Id        Disp.A | Volatile Uncorr. ECC |\n",
            "| Fan  Temp  Perf  Pwr:Usage/Cap|         Memory-Usage | GPU-Util  Compute M. |\n",
            "|                               |                      |               MIG M. |\n",
            "|===============================+======================+======================|\n",
            "|   0  NVIDIA A100-SXM...  Off  | 00000000:00:05.0 Off |                    0 |\n",
            "| N/A   42C    P0    73W / 500W |      0MiB / 81920MiB |      0%      Default |\n",
            "|                               |                      |             Disabled |\n",
            "+-------------------------------+----------------------+----------------------+\n",
            "                                                                               \n",
            "+-----------------------------------------------------------------------------+\n",
            "| Processes:                                                                  |\n",
            "|  GPU   GI   CI        PID   Type   Process name                  GPU Memory |\n",
            "|        ID   ID                                                   Usage      |\n",
            "|=============================================================================|\n",
            "|  No running processes found                                                 |\n",
            "+-----------------------------------------------------------------------------+\n"
          ]
        }
      ],
      "source": [
        "# Check we have a GPU and check the memory size of the GUP\n",
        "!nvidia-smi"
      ]
    },
    {
      "cell_type": "markdown",
      "metadata": {
        "id": "7Hpcn7EOWHII"
      },
      "source": [
        "**Import packages**"
      ]
    },
    {
      "cell_type": "code",
      "execution_count": null,
      "metadata": {
        "colab": {
          "base_uri": "https://localhost:8080/"
        },
        "execution": {
          "iopub.execute_input": "2023-01-27T19:14:10.016843Z",
          "iopub.status.busy": "2023-01-27T19:14:10.015957Z",
          "iopub.status.idle": "2023-01-27T19:14:14.584110Z",
          "shell.execute_reply": "2023-01-27T19:14:14.583105Z",
          "shell.execute_reply.started": "2023-01-27T19:14:10.016804Z"
        },
        "id": "DEG_P9fDkOxH",
        "outputId": "911b4c47-d359-4a34-dce0-27e6c3146ad6"
      },
      "outputs": [
        {
          "name": "stdout",
          "output_type": "stream",
          "text": [
            "Requirement already satisfied: pytorch_lightning in /usr/local/lib/python3.9/dist-packages (1.2.10)\n",
            "Requirement already satisfied: numpy>=1.16.6 in /usr/local/lib/python3.9/dist-packages (from pytorch_lightning) (1.23.1)\n",
            "Requirement already satisfied: packaging in /usr/local/lib/python3.9/dist-packages (from pytorch_lightning) (21.3)\n",
            "Requirement already satisfied: tqdm>=4.41.0 in /usr/local/lib/python3.9/dist-packages (from pytorch_lightning) (4.57.0)\n",
            "Requirement already satisfied: future>=0.17.1 in /usr/lib/python3/dist-packages (from pytorch_lightning) (0.18.2)\n",
            "Requirement already satisfied: torchmetrics==0.2.0 in /usr/local/lib/python3.9/dist-packages (from pytorch_lightning) (0.2.0)\n",
            "Requirement already satisfied: PyYAML!=5.4.*,>=5.1 in /usr/local/lib/python3.9/dist-packages (from pytorch_lightning) (6.0)\n",
            "Requirement already satisfied: torch>=1.4 in /usr/local/lib/python3.9/dist-packages (from pytorch_lightning) (1.9.0+cu111)\n",
            "Requirement already satisfied: tensorboard!=2.5.0,>=2.2.0 in /usr/local/lib/python3.9/dist-packages (from pytorch_lightning) (2.9.1)\n",
            "Requirement already satisfied: fsspec[http]>=0.8.1 in /usr/local/lib/python3.9/dist-packages (from pytorch_lightning) (2022.5.0)\n",
            "Requirement already satisfied: requests in /usr/local/lib/python3.9/dist-packages (from fsspec[http]>=0.8.1->pytorch_lightning) (2.28.1)\n",
            "Requirement already satisfied: aiohttp in /usr/local/lib/python3.9/dist-packages (from fsspec[http]>=0.8.1->pytorch_lightning) (3.8.1)\n",
            "Requirement already satisfied: google-auth<3,>=1.6.3 in /usr/local/lib/python3.9/dist-packages (from tensorboard!=2.5.0,>=2.2.0->pytorch_lightning) (2.9.0)\n",
            "Requirement already satisfied: tensorboard-data-server<0.7.0,>=0.6.0 in /usr/local/lib/python3.9/dist-packages (from tensorboard!=2.5.0,>=2.2.0->pytorch_lightning) (0.6.1)\n",
            "Requirement already satisfied: protobuf<3.20,>=3.9.2 in /usr/local/lib/python3.9/dist-packages (from tensorboard!=2.5.0,>=2.2.0->pytorch_lightning) (3.19.4)\n",
            "Requirement already satisfied: grpcio>=1.24.3 in /usr/local/lib/python3.9/dist-packages (from tensorboard!=2.5.0,>=2.2.0->pytorch_lightning) (1.47.0)\n",
            "Requirement already satisfied: google-auth-oauthlib<0.5,>=0.4.1 in /usr/local/lib/python3.9/dist-packages (from tensorboard!=2.5.0,>=2.2.0->pytorch_lightning) (0.4.6)\n",
            "Requirement already satisfied: tensorboard-plugin-wit>=1.6.0 in /usr/local/lib/python3.9/dist-packages (from tensorboard!=2.5.0,>=2.2.0->pytorch_lightning) (1.8.1)\n",
            "Requirement already satisfied: setuptools>=41.0.0 in /usr/local/lib/python3.9/dist-packages (from tensorboard!=2.5.0,>=2.2.0->pytorch_lightning) (63.1.0)\n",
            "Requirement already satisfied: werkzeug>=1.0.1 in /usr/local/lib/python3.9/dist-packages (from tensorboard!=2.5.0,>=2.2.0->pytorch_lightning) (2.1.2)\n",
            "Requirement already satisfied: wheel>=0.26 in /usr/local/lib/python3.9/dist-packages (from tensorboard!=2.5.0,>=2.2.0->pytorch_lightning) (0.35.1)\n",
            "Requirement already satisfied: absl-py>=0.4 in /usr/local/lib/python3.9/dist-packages (from tensorboard!=2.5.0,>=2.2.0->pytorch_lightning) (1.1.0)\n",
            "Requirement already satisfied: markdown>=2.6.8 in /usr/local/lib/python3.9/dist-packages (from tensorboard!=2.5.0,>=2.2.0->pytorch_lightning) (3.3.7)\n",
            "Requirement already satisfied: typing-extensions in /usr/local/lib/python3.9/dist-packages (from torch>=1.4->pytorch_lightning) (4.3.0)\n",
            "Requirement already satisfied: pyparsing!=3.0.5,>=2.0.2 in /usr/local/lib/python3.9/dist-packages (from packaging->pytorch_lightning) (3.0.9)\n",
            "Requirement already satisfied: cachetools<6.0,>=2.0.0 in /usr/local/lib/python3.9/dist-packages (from google-auth<3,>=1.6.3->tensorboard!=2.5.0,>=2.2.0->pytorch_lightning) (5.2.0)\n",
            "Requirement already satisfied: six>=1.9.0 in /usr/lib/python3/dist-packages (from google-auth<3,>=1.6.3->tensorboard!=2.5.0,>=2.2.0->pytorch_lightning) (1.14.0)\n",
            "Requirement already satisfied: pyasn1-modules>=0.2.1 in /usr/local/lib/python3.9/dist-packages (from google-auth<3,>=1.6.3->tensorboard!=2.5.0,>=2.2.0->pytorch_lightning) (0.2.8)\n",
            "Requirement already satisfied: rsa<5,>=3.1.4 in /usr/lib/python3/dist-packages (from google-auth<3,>=1.6.3->tensorboard!=2.5.0,>=2.2.0->pytorch_lightning) (4.0)\n",
            "Requirement already satisfied: requests-oauthlib>=0.7.0 in /usr/local/lib/python3.9/dist-packages (from google-auth-oauthlib<0.5,>=0.4.1->tensorboard!=2.5.0,>=2.2.0->pytorch_lightning) (1.3.1)\n",
            "Requirement already satisfied: importlib-metadata>=4.4 in /usr/local/lib/python3.9/dist-packages (from markdown>=2.6.8->tensorboard!=2.5.0,>=2.2.0->pytorch_lightning) (4.12.0)\n",
            "Requirement already satisfied: certifi>=2017.4.17 in /usr/lib/python3/dist-packages (from requests->fsspec[http]>=0.8.1->pytorch_lightning) (2019.11.28)\n",
            "Requirement already satisfied: charset-normalizer<3,>=2 in /usr/local/lib/python3.9/dist-packages (from requests->fsspec[http]>=0.8.1->pytorch_lightning) (2.1.0)\n",
            "Requirement already satisfied: urllib3<1.27,>=1.21.1 in /usr/local/lib/python3.9/dist-packages (from requests->fsspec[http]>=0.8.1->pytorch_lightning) (1.26.10)\n",
            "Requirement already satisfied: idna<4,>=2.5 in /usr/lib/python3/dist-packages (from requests->fsspec[http]>=0.8.1->pytorch_lightning) (2.8)\n",
            "Requirement already satisfied: yarl<2.0,>=1.0 in /usr/local/lib/python3.9/dist-packages (from aiohttp->fsspec[http]>=0.8.1->pytorch_lightning) (1.7.2)\n",
            "Requirement already satisfied: multidict<7.0,>=4.5 in /usr/local/lib/python3.9/dist-packages (from aiohttp->fsspec[http]>=0.8.1->pytorch_lightning) (6.0.2)\n",
            "Requirement already satisfied: attrs>=17.3.0 in /usr/local/lib/python3.9/dist-packages (from aiohttp->fsspec[http]>=0.8.1->pytorch_lightning) (18.2.0)\n",
            "Requirement already satisfied: frozenlist>=1.1.1 in /usr/local/lib/python3.9/dist-packages (from aiohttp->fsspec[http]>=0.8.1->pytorch_lightning) (1.3.0)\n",
            "Requirement already satisfied: aiosignal>=1.1.2 in /usr/local/lib/python3.9/dist-packages (from aiohttp->fsspec[http]>=0.8.1->pytorch_lightning) (1.2.0)\n",
            "Requirement already satisfied: async-timeout<5.0,>=4.0.0a3 in /usr/local/lib/python3.9/dist-packages (from aiohttp->fsspec[http]>=0.8.1->pytorch_lightning) (4.0.2)\n",
            "Requirement already satisfied: zipp>=0.5 in /usr/local/lib/python3.9/dist-packages (from importlib-metadata>=4.4->markdown>=2.6.8->tensorboard!=2.5.0,>=2.2.0->pytorch_lightning) (3.8.1)\n",
            "Requirement already satisfied: pyasn1<0.5.0,>=0.4.6 in /usr/local/lib/python3.9/dist-packages (from pyasn1-modules>=0.2.1->google-auth<3,>=1.6.3->tensorboard!=2.5.0,>=2.2.0->pytorch_lightning) (0.4.8)\n",
            "Requirement already satisfied: oauthlib>=3.0.0 in /usr/local/lib/python3.9/dist-packages (from requests-oauthlib>=0.7.0->google-auth-oauthlib<0.5,>=0.4.1->tensorboard!=2.5.0,>=2.2.0->pytorch_lightning) (3.2.0)\n",
            "\u001b[33mWARNING: Running pip as the 'root' user can result in broken permissions and conflicting behaviour with the system package manager. It is recommended to use a virtual environment instead: https://pip.pypa.io/warnings/venv\u001b[0m\u001b[33m\n",
            "\u001b[0mRequirement already satisfied: transformers in /usr/local/lib/python3.9/dist-packages (4.1.1)\n",
            "Requirement already satisfied: tokenizers==0.9.4 in /usr/local/lib/python3.9/dist-packages (from transformers) (0.9.4)\n",
            "Requirement already satisfied: numpy in /usr/local/lib/python3.9/dist-packages (from transformers) (1.23.1)\n",
            "Requirement already satisfied: tqdm>=4.27 in /usr/local/lib/python3.9/dist-packages (from transformers) (4.57.0)\n",
            "Requirement already satisfied: regex!=2019.12.17 in /usr/local/lib/python3.9/dist-packages (from transformers) (2022.7.9)\n",
            "Requirement already satisfied: packaging in /usr/local/lib/python3.9/dist-packages (from transformers) (21.3)\n",
            "Requirement already satisfied: sacremoses in /usr/local/lib/python3.9/dist-packages (from transformers) (0.0.53)\n",
            "Requirement already satisfied: filelock in /usr/local/lib/python3.9/dist-packages (from transformers) (3.7.1)\n",
            "Requirement already satisfied: requests in /usr/local/lib/python3.9/dist-packages (from transformers) (2.28.1)\n",
            "Requirement already satisfied: pyparsing!=3.0.5,>=2.0.2 in /usr/local/lib/python3.9/dist-packages (from packaging->transformers) (3.0.9)\n",
            "Requirement already satisfied: charset-normalizer<3,>=2 in /usr/local/lib/python3.9/dist-packages (from requests->transformers) (2.1.0)\n",
            "Requirement already satisfied: idna<4,>=2.5 in /usr/lib/python3/dist-packages (from requests->transformers) (2.8)\n",
            "Requirement already satisfied: urllib3<1.27,>=1.21.1 in /usr/local/lib/python3.9/dist-packages (from requests->transformers) (1.26.10)\n",
            "Requirement already satisfied: certifi>=2017.4.17 in /usr/lib/python3/dist-packages (from requests->transformers) (2019.11.28)\n",
            "Requirement already satisfied: joblib in /usr/local/lib/python3.9/dist-packages (from sacremoses->transformers) (1.1.0)\n",
            "Requirement already satisfied: six in /usr/lib/python3/dist-packages (from sacremoses->transformers) (1.14.0)\n",
            "Requirement already satisfied: click in /usr/local/lib/python3.9/dist-packages (from sacremoses->transformers) (8.1.3)\n",
            "\u001b[33mWARNING: Running pip as the 'root' user can result in broken permissions and conflicting behaviour with the system package manager. It is recommended to use a virtual environment instead: https://pip.pypa.io/warnings/venv\u001b[0m\u001b[33m\n",
            "\u001b[0m"
          ]
        }
      ],
      "source": [
        "!pip install pytorch_lightning\n",
        "!pip install transformers"
      ]
    },
    {
      "cell_type": "code",
      "execution_count": null,
      "metadata": {
        "colab": {
          "base_uri": "https://localhost:8080/"
        },
        "execution": {
          "iopub.execute_input": "2023-01-27T19:14:14.586048Z",
          "iopub.status.busy": "2023-01-27T19:14:14.585741Z",
          "iopub.status.idle": "2023-01-27T19:14:18.067084Z",
          "shell.execute_reply": "2023-01-27T19:14:18.066412Z",
          "shell.execute_reply.started": "2023-01-27T19:14:14.586023Z"
        },
        "id": "f6neDi6_VxU7",
        "outputId": "0d0e348f-363b-4b19-c343-4faae707d309"
      },
      "outputs": [
        {
          "name": "stderr",
          "output_type": "stream",
          "text": [
            "Global seed set to 42\n"
          ]
        },
        {
          "data": {
            "text/plain": [
              "42"
            ]
          },
          "execution_count": 5,
          "metadata": {},
          "output_type": "execute_result"
        }
      ],
      "source": [
        "import argparse\n",
        "\n",
        "import time\n",
        "import random\n",
        "\n",
        "\n",
        "import pandas as pd\n",
        "import numpy as np\n",
        "import torch\n",
        "from torch.utils.data import Dataset, DataLoader\n",
        "import pytorch_lightning as pl\n",
        "\n",
        "from transformers import (\n",
        "    AdamW,\n",
        "    T5ForConditionalGeneration,\n",
        "    T5Tokenizer,\n",
        "    get_linear_schedule_with_warmup\n",
        ")\n",
        "\n",
        "from transformers import T5ForConditionalGeneration,T5Tokenizer\n",
        "\n",
        "pl.seed_everything(42)"
      ]
    },
    {
      "cell_type": "code",
      "execution_count": null,
      "metadata": {
        "execution": {
          "iopub.execute_input": "2023-01-27T19:14:18.068597Z",
          "iopub.status.busy": "2023-01-27T19:14:18.068226Z",
          "iopub.status.idle": "2023-01-27T19:14:18.399537Z",
          "shell.execute_reply": "2023-01-27T19:14:18.398824Z",
          "shell.execute_reply.started": "2023-01-27T19:14:18.068577Z"
        },
        "id": "hJp-7Oc73vf9"
      },
      "outputs": [],
      "source": [
        "easy_training = pd.read_csv('easy_training.csv')\n",
        "easy_testing = pd.read_csv('easy_testing.csv')\n",
        "challenge_training = pd.read_csv('/notebooks/challenge_training.csv')\n",
        "challenge_testing = pd.read_csv('/notebooks/challenge_testing.csv')"
      ]
    },
    {
      "cell_type": "code",
      "execution_count": null,
      "metadata": {
        "colab": {
          "base_uri": "https://localhost:8080/"
        },
        "execution": {
          "iopub.execute_input": "2023-01-27T19:14:18.401250Z",
          "iopub.status.busy": "2023-01-27T19:14:18.401030Z",
          "iopub.status.idle": "2023-01-27T19:14:18.405237Z",
          "shell.execute_reply": "2023-01-27T19:14:18.404426Z",
          "shell.execute_reply.started": "2023-01-27T19:14:18.401230Z"
        },
        "id": "KieqrE3zt3WN",
        "outputId": "07c8d388-4b5e-4faa-fdf1-e61f50b6797f"
      },
      "outputs": [
        {
          "name": "stdout",
          "output_type": "stream",
          "text": [
            "(2821, 6)\n",
            "(2376, 6)\n",
            "(1418, 6)\n",
            "(1172, 6)\n"
          ]
        }
      ],
      "source": [
        "print(easy_training.shape)\n",
        "print(easy_testing.shape)\n",
        "print(challenge_training.shape)\n",
        "print(challenge_testing.shape)"
      ]
    },
    {
      "cell_type": "code",
      "execution_count": null,
      "metadata": {
        "execution": {
          "iopub.execute_input": "2023-01-27T19:14:18.406470Z",
          "iopub.status.busy": "2023-01-27T19:14:18.406216Z",
          "iopub.status.idle": "2023-01-27T19:14:18.410250Z",
          "shell.execute_reply": "2023-01-27T19:14:18.409623Z",
          "shell.execute_reply.started": "2023-01-27T19:14:18.406447Z"
        },
        "id": "SqEm2s8Mnx_M"
      },
      "outputs": [],
      "source": [
        "# Use this if you are training uinified QA T5 model\n",
        "\n",
        "def format_question(text):\n",
        "  if '(A)' in text:\n",
        "    temp = text.split('(A)')\n",
        "    text = temp[0] + ' \\\\n ' + '(A)' + temp[1]\n",
        "    return text\n",
        "  else:\n",
        "    temp = text.split('(1)')\n",
        "    text = temp[0] + ' \\\\n ' + '(1)' + temp[1]\n",
        "    return text"
      ]
    },
    {
      "cell_type": "code",
      "execution_count": null,
      "metadata": {
        "execution": {
          "iopub.execute_input": "2023-01-27T19:14:18.411196Z",
          "iopub.status.busy": "2023-01-27T19:14:18.411005Z",
          "iopub.status.idle": "2023-01-27T19:14:18.413912Z",
          "shell.execute_reply": "2023-01-27T19:14:18.413343Z",
          "shell.execute_reply.started": "2023-01-27T19:14:18.411179Z"
        },
        "id": "pK7ZbkZWB-tp"
      },
      "outputs": [],
      "source": [
        "# from google.colab import drive\n",
        "# drive.mount('/content/drive')"
      ]
    },
    {
      "cell_type": "markdown",
      "metadata": {
        "id": "R-wRp79AYt5k"
      },
      "source": [
        "**Preparing Dataset**"
      ]
    },
    {
      "cell_type": "code",
      "execution_count": null,
      "metadata": {
        "execution": {
          "iopub.execute_input": "2023-01-27T19:14:18.414892Z",
          "iopub.status.busy": "2023-01-27T19:14:18.414701Z",
          "iopub.status.idle": "2023-01-27T19:14:18.424519Z",
          "shell.execute_reply": "2023-01-27T19:14:18.423829Z",
          "shell.execute_reply.started": "2023-01-27T19:14:18.414875Z"
        },
        "id": "u9_3VhGUZlPY"
      },
      "outputs": [],
      "source": [
        "from tqdm.notebook import tqdm\n",
        "import copy\n",
        "\n",
        "class QuestionGenerationDataset(Dataset):\n",
        "    def __init__(self, tokenizer, filepath, max_len_inp=512,max_len_out=96):\n",
        "        self.path = filepath\n",
        "\n",
        "        self.passage_column = \"context\"\n",
        "        self.answer = \"answer\"\n",
        "        self.question = \"question\"\n",
        "\n",
        "        # self.data = pd.read_csv(self.path)\n",
        "        self.data = pd.read_csv(self.path)\n",
        "\n",
        "        # Use this if you are training uinified QA T5 model\n",
        "        self.data['question'] = self.data['question'].apply(format_question)\n",
        "        \n",
        "\n",
        "        self.max_len_input = max_len_inp\n",
        "        self.max_len_output = max_len_out\n",
        "        self.tokenizer = tokenizer\n",
        "        self.inputs = []\n",
        "        self.targets = []\n",
        "        self.skippedcount =0\n",
        "        self._build()\n",
        "\n",
        "    def __len__(self):\n",
        "        return len(self.inputs)\n",
        "\n",
        "    def __getitem__(self, index):\n",
        "        source_ids = self.inputs[index][\"input_ids\"].squeeze()\n",
        "        target_ids = self.targets[index][\"input_ids\"].squeeze()\n",
        "\n",
        "        src_mask = self.inputs[index][\"attention_mask\"].squeeze()  # might need to squeeze\n",
        "        target_mask = self.targets[index][\"attention_mask\"].squeeze()  # might need to squeeze\n",
        "\n",
        "        labels = copy.deepcopy(target_ids)\n",
        "        labels [labels==0] = -100\n",
        "\n",
        "        return {\"source_ids\": source_ids, \"source_mask\": src_mask, \"target_ids\": target_ids, \"target_mask\": target_mask,\"labels\":labels}\n",
        "    \n",
        "    def _build(self):\n",
        "        for idx in tqdm(range(len(self.data))):\n",
        "            passage,context,target = self.data.loc[idx, self.question],self.data.loc[idx, self.passage_column], self.data.loc[idx, self.answer]\n",
        "\n",
        "            input_ = \"question: %s \\n\\n context: %s </s>\" % (passage, context)\n",
        "            target = \"answer: %s </s>\" % (str(target))\n",
        "\n",
        "            # get encoding length of input. If it is greater than self.max_len skip it\n",
        "            test_input_encoding = self.tokenizer.encode_plus(input_,\n",
        "                                        truncation=False,\n",
        "                                        return_tensors=\"pt\")\n",
        "            \n",
        "            length_of_input_encoding = len(test_input_encoding['input_ids'][0])\n",
        "\n",
        "\n",
        "            if length_of_input_encoding > self.max_len_input:\n",
        "              self.skippedcount = self.skippedcount + 1\n",
        "              continue\n",
        "\n",
        "            # tokenize inputs\n",
        "            tokenized_inputs = self.tokenizer.batch_encode_plus(\n",
        "                [input_], max_length=self.max_len_input, pad_to_max_length=True, return_tensors=\"pt\"\n",
        "            )\n",
        "            # tokenize targets\n",
        "            tokenized_targets = self.tokenizer.batch_encode_plus(\n",
        "                [target], max_length=self.max_len_output, pad_to_max_length=True,return_tensors=\"pt\"\n",
        "            )\n",
        "\n",
        "            self.inputs.append(tokenized_inputs)\n",
        "            self.targets.append(tokenized_targets)\n"
      ]
    },
    {
      "cell_type": "markdown",
      "metadata": {
        "id": "B2ckilijWSeV"
      },
      "source": [
        "**T5 Finetuner**"
      ]
    },
    {
      "cell_type": "code",
      "execution_count": null,
      "metadata": {
        "execution": {
          "iopub.execute_input": "2023-01-27T19:14:18.429889Z",
          "iopub.status.busy": "2023-01-27T19:14:18.429684Z",
          "iopub.status.idle": "2023-01-27T19:14:18.437109Z",
          "shell.execute_reply": "2023-01-27T19:14:18.436353Z",
          "shell.execute_reply.started": "2023-01-27T19:14:18.429869Z"
        },
        "id": "kXvfSgqTWX5n"
      },
      "outputs": [],
      "source": [
        "class T5FineTuner(pl.LightningModule):\n",
        "    def __init__(self,hparams, t5model, t5tokenizer,train_dataset,validation_dataset):\n",
        "        super(T5FineTuner, self).__init__()\n",
        "        self.hparams = hparams\n",
        "        self.model = t5model\n",
        "        # self.tokenizer = t5tokenizer\n",
        "        self.validation_dataset = validation_dataset\n",
        "        self.train_dataset = train_dataset\n",
        "\n",
        "\n",
        "    def forward( self, input_ids, attention_mask=None, decoder_input_ids=None, decoder_attention_mask=None, lm_labels=None):\n",
        "         outputs = self.model(\n",
        "            input_ids=input_ids,\n",
        "            attention_mask=attention_mask,\n",
        "            decoder_attention_mask=decoder_attention_mask,\n",
        "            labels=lm_labels,\n",
        "        )\n",
        "         \n",
        "         return outputs\n",
        "\n",
        "\n",
        "    def training_step(self, batch, batch_idx):\n",
        "        outputs = self.forward(\n",
        "            input_ids=batch[\"source_ids\"],\n",
        "            attention_mask=batch[\"source_mask\"],\n",
        "            decoder_input_ids = batch[\"target_ids\"],\n",
        "            decoder_attention_mask=batch['target_mask'],\n",
        "            lm_labels=batch['labels']\n",
        "        )\n",
        "\n",
        "        loss = outputs[0]\n",
        "        self.log('train_loss',loss)\n",
        "        return loss\n",
        "\n",
        "    def validation_step(self, batch, batch_idx):\n",
        "        outputs = self.forward(\n",
        "            input_ids=batch[\"source_ids\"],\n",
        "            attention_mask=batch[\"source_mask\"],\n",
        "            decoder_input_ids = batch[\"target_ids\"],\n",
        "            decoder_attention_mask=batch['target_mask'],\n",
        "            lm_labels=batch['labels']\n",
        "        )\n",
        "\n",
        "        loss = outputs[0]\n",
        "        self.log(\"val_loss\",loss)\n",
        "        return loss\n",
        "\n",
        "    def train_dataloader(self):\n",
        "        return DataLoader(self.train_dataset, batch_size=self.hparams.batch_size,num_workers=4)\n",
        "\n",
        "  \n",
        "    def val_dataloader(self):\n",
        "        return DataLoader(self.validation_dataset, batch_size=self.hparams.batch_size,num_workers=4)\n",
        "\n",
        "\n",
        "\n",
        "    def configure_optimizers(self):\n",
        "        optimizer = AdamW(self.parameters(), lr=3e-4, eps=1e-8)\n",
        "        return optimizer\n",
        "\n",
        "\n"
      ]
    },
    {
      "cell_type": "code",
      "execution_count": null,
      "metadata": {
        "execution": {
          "iopub.execute_input": "2023-01-27T19:14:18.440067Z",
          "iopub.status.busy": "2023-01-27T19:14:18.439536Z",
          "iopub.status.idle": "2023-01-27T19:14:18.444641Z",
          "shell.execute_reply": "2023-01-27T19:14:18.443932Z",
          "shell.execute_reply.started": "2023-01-27T19:14:18.440040Z"
        },
        "id": "soiAnjjOf88w"
      },
      "outputs": [],
      "source": [
        "def dataset_creation_and_training(saved_model_path,saved_trained_tokenizer,train_file_path,validation_file_path,t5_tokenizer,t5_model,epochs):\n",
        "      \n",
        "      print(f'Preparing the Train_Dataset')\n",
        "      train_dataset = QuestionGenerationDataset(t5_tokenizer,train_file_path)\n",
        "      print(f'Preparing the Validation_Dataset')\n",
        "      validation_dataset = QuestionGenerationDataset(t5_tokenizer,validation_file_path)\n",
        "\n",
        "      args_dict = dict(\n",
        "          batch_size=4,\n",
        "      )\n",
        "\n",
        "      args = argparse.Namespace(**args_dict)\n",
        "\n",
        "\n",
        "      model = T5FineTuner(args,t5_model,t5_tokenizer,train_dataset,validation_dataset)\n",
        "\n",
        "      trainer = pl.Trainer(max_epochs = epochs, gpus=1,progress_bar_refresh_rate=30)\n",
        "      # trainer = pl.Trainer(max_epochs = 1,progress_bar_refresh_rate=30)\n",
        "\n",
        "\n",
        "      trainer.fit(model)\n",
        "\n",
        "      print (\"Saving model\")\n",
        "      save_path_model = saved_model_path\n",
        "      save_path_tokenizer = saved_trained_tokenizer\n",
        "      model.model.save_pretrained(save_path_model)\n",
        "      t5_tokenizer.save_pretrained(save_path_tokenizer)"
      ]
    },
    {
      "cell_type": "code",
      "execution_count": null,
      "metadata": {
        "execution": {
          "iopub.execute_input": "2023-01-27T19:14:18.445990Z",
          "iopub.status.busy": "2023-01-27T19:14:18.445764Z",
          "iopub.status.idle": "2023-01-27T19:14:18.450279Z",
          "shell.execute_reply": "2023-01-27T19:14:18.449598Z",
          "shell.execute_reply.started": "2023-01-27T19:14:18.445970Z"
        },
        "id": "8lAYh043-hUw"
      },
      "outputs": [],
      "source": [
        "def generate_answers(text,tokenizer,model,device):\n",
        "\n",
        "    \n",
        "    encoding = tokenizer.encode_plus(text,max_length =512, padding=True, return_tensors=\"pt\")\n",
        "    input_ids,attention_mask  = encoding[\"input_ids\"].to(device), encoding[\"attention_mask\"].to(device)\n",
        "\n",
        "    model.eval()\n",
        "    beam_outputs = model.generate(\n",
        "        input_ids=input_ids,attention_mask=attention_mask,\n",
        "        max_length=72,\n",
        "        early_stopping=True,\n",
        "        num_beams=5,\n",
        "        num_return_sequences=3\n",
        "\n",
        "    )\n",
        "\n",
        "    answer = tokenizer.decode(beam_outputs[0], skip_special_tokens=True,clean_up_tokenization_spaces=True)\n",
        "\n",
        "    return answer"
      ]
    },
    {
      "cell_type": "code",
      "execution_count": null,
      "metadata": {
        "execution": {
          "iopub.execute_input": "2023-01-27T19:14:18.451485Z",
          "iopub.status.busy": "2023-01-27T19:14:18.451261Z",
          "iopub.status.idle": "2023-01-27T19:14:18.454727Z",
          "shell.execute_reply": "2023-01-27T19:14:18.454067Z",
          "shell.execute_reply.started": "2023-01-27T19:14:18.451465Z"
        },
        "id": "qim33hE_4iql"
      },
      "outputs": [],
      "source": [
        "def preprocess_test_df(df):\n",
        "  \n",
        "    df['text'] = \"question: \"+ df['question'] + \"\\n\\n \" + \"context: \" + df['context'] + \" </s>\"\n",
        "\n",
        "    return df"
      ]
    },
    {
      "cell_type": "code",
      "execution_count": null,
      "metadata": {
        "execution": {
          "iopub.execute_input": "2023-01-27T19:14:18.455856Z",
          "iopub.status.busy": "2023-01-27T19:14:18.455636Z",
          "iopub.status.idle": "2023-01-27T19:14:18.460718Z",
          "shell.execute_reply": "2023-01-27T19:14:18.460064Z",
          "shell.execute_reply.started": "2023-01-27T19:14:18.455835Z"
        },
        "id": "164wUoc_425m"
      },
      "outputs": [],
      "source": [
        "def predict_answers(df ,tokenizer,model,device):\n",
        "\n",
        "  df = preprocess_test_df(df)\n",
        "  answers = []\n",
        "  \n",
        "  for i in range(df.shape[0]):\n",
        "      text = df.loc[i,'text']\n",
        "      original_answer = df.loc[i,'answer']\n",
        "      question = df.loc[i,'question']\n",
        "      new_answer = generate_answers(text ,tokenizer,model,device)\n",
        "      if len(new_answer.split(':')) > 1:\n",
        "          ans = new_answer.split(':')[1]\n",
        "      else:\n",
        "          ans = new_answer.split(':')[0]\n",
        "\n",
        "      ans = answers.append(ans)\n",
        "      \n",
        "      if i % 50 == 0:\n",
        "         print(f'Iteration in answer is: {i}')\n",
        "  \n",
        "  df['Generated_answer'] = np.array(answers)\n",
        "\n",
        "  \n",
        "  return df"
      ]
    },
    {
      "cell_type": "code",
      "execution_count": null,
      "metadata": {
        "execution": {
          "iopub.execute_input": "2023-01-27T19:14:18.461867Z",
          "iopub.status.busy": "2023-01-27T19:14:18.461654Z",
          "iopub.status.idle": "2023-01-27T19:14:18.465470Z",
          "shell.execute_reply": "2023-01-27T19:14:18.464815Z",
          "shell.execute_reply.started": "2023-01-27T19:14:18.461847Z"
        },
        "id": "JAJxI2ykOvJH"
      },
      "outputs": [],
      "source": [
        "def training_schedule(training_df,saved_model_path,saved_trained_tokenizer,train_file_path,validation_file_path,t5_tokenizer,t5_model,epochs):\n",
        "\n",
        "  dataset_creation_and_training(saved_model_path,saved_trained_tokenizer,train_file_path,validation_file_path,t5_tokenizer,t5_model,epochs)\n"
      ]
    },
    {
      "cell_type": "code",
      "execution_count": null,
      "metadata": {
        "execution": {
          "iopub.execute_input": "2023-01-27T19:14:18.466484Z",
          "iopub.status.busy": "2023-01-27T19:14:18.466280Z",
          "iopub.status.idle": "2023-01-27T19:14:18.471225Z",
          "shell.execute_reply": "2023-01-27T19:14:18.470394Z",
          "shell.execute_reply.started": "2023-01-27T19:14:18.466466Z"
        },
        "id": "-Iif4j1nOvNp"
      },
      "outputs": [],
      "source": [
        "def predicting_schedule(test_df,saved_model_path,saved_trained_tokenizer,model_name,df_type,device):\n",
        "\n",
        "  model = T5ForConditionalGeneration.from_pretrained(saved_model_path)\n",
        "  tokenizer = T5Tokenizer.from_pretrained(saved_trained_tokenizer)\n",
        "\n",
        "  device = torch.device(\"cuda\" if torch.cuda.is_available() else \"cpu\")\n",
        "  print (\"device \",device)\n",
        "  model = model.to(device)\n",
        "\n",
        "\n",
        "  df_answer = predict_answers(test_df ,tokenizer,model,device)\n",
        "\n",
        "  if 'allenai' in model_name:\n",
        "      model_name = model_name.split('/')[1]\n",
        "\n",
        "  path_to_save = '/notebooks/' + model_name + '_' + df_type + '.csv'\n",
        "\n",
        "  df_answer.to_csv(path_to_save)\n",
        "  \n",
        "  print(f'File Saved to : {path_to_save}')"
      ]
    },
    {
      "cell_type": "code",
      "execution_count": null,
      "metadata": {
        "execution": {
          "iopub.execute_input": "2023-01-27T19:14:18.476999Z",
          "iopub.status.busy": "2023-01-27T19:14:18.476390Z",
          "iopub.status.idle": "2023-01-27T19:14:18.480216Z",
          "shell.execute_reply": "2023-01-27T19:14:18.479482Z",
          "shell.execute_reply.started": "2023-01-27T19:14:18.476976Z"
        },
        "id": "QEMLG8GacoXd"
      },
      "outputs": [],
      "source": [
        "# unified_model_list = [\"allenai/unifiedqa-t5-small\",\"allenai/unifiedqa-t5-base\"]\n",
        "# model_list = [\"t5-small\",\"t5-base\"]\n",
        "\n",
        "unified_model_list = [\"allenai/unifiedqa-t5-large\",\"allenai/unifiedqa-t5-3b\",\"allenai/unifiedqa-t5-11b\"]\n",
        "model_list = [\"t5-large\",\"t5-3b\",\"t5-11b\"]"
      ]
    },
    {
      "cell_type": "code",
      "execution_count": null,
      "metadata": {
        "execution": {
          "iopub.execute_input": "2023-01-27T19:14:18.490262Z",
          "iopub.status.busy": "2023-01-27T19:14:18.489966Z",
          "iopub.status.idle": "2023-01-27T19:19:45.886541Z",
          "shell.execute_reply": "2023-01-27T19:19:45.885719Z",
          "shell.execute_reply.started": "2023-01-27T19:14:18.490243Z"
        },
        "id": "y2TvSiZ7K0aE",
        "colab": {
          "referenced_widgets": [
            "b63b46c8c2f341cca50dca7953d044bd",
            "13914fb6724b470db3d8b888f95d36dc",
            "b46363a19cd943248e7c8de6a642291d",
            "d12f5d555ad54b448bbbd48288ac4823",
            "3219415dcc834ff8acef41952f336419"
          ]
        },
        "outputId": "25c5aff9-3e0f-40e3-822a-06559c8e13f1"
      },
      "outputs": [
        {
          "data": {
            "application/vnd.jupyter.widget-view+json": {
              "model_id": "b63b46c8c2f341cca50dca7953d044bd",
              "version_major": 2,
              "version_minor": 0
            },
            "text/plain": [
              "Downloading:   0%|          | 0.00/1.24k [00:00<?, ?B/s]"
            ]
          },
          "metadata": {},
          "output_type": "display_data"
        },
        {
          "data": {
            "application/vnd.jupyter.widget-view+json": {
              "model_id": "13914fb6724b470db3d8b888f95d36dc",
              "version_major": 2,
              "version_minor": 0
            },
            "text/plain": [
              "Downloading:   0%|          | 0.00/792k [00:00<?, ?B/s]"
            ]
          },
          "metadata": {},
          "output_type": "display_data"
        },
        {
          "data": {
            "application/vnd.jupyter.widget-view+json": {
              "model_id": "b46363a19cd943248e7c8de6a642291d",
              "version_major": 2,
              "version_minor": 0
            },
            "text/plain": [
              "Downloading:   0%|          | 0.00/1.79k [00:00<?, ?B/s]"
            ]
          },
          "metadata": {},
          "output_type": "display_data"
        },
        {
          "data": {
            "application/vnd.jupyter.widget-view+json": {
              "model_id": "d12f5d555ad54b448bbbd48288ac4823",
              "version_major": 2,
              "version_minor": 0
            },
            "text/plain": [
              "Downloading:   0%|          | 0.00/25.0 [00:00<?, ?B/s]"
            ]
          },
          "metadata": {},
          "output_type": "display_data"
        },
        {
          "data": {
            "application/vnd.jupyter.widget-view+json": {
              "model_id": "3219415dcc834ff8acef41952f336419",
              "version_major": 2,
              "version_minor": 0
            },
            "text/plain": [
              "Downloading:   0%|          | 0.00/11.4G [00:00<?, ?B/s]"
            ]
          },
          "metadata": {},
          "output_type": "display_data"
        },
        {
          "name": "stderr",
          "output_type": "stream",
          "text": [
            "Some weights of the model checkpoint at allenai/unifiedqa-t5-3b were not used when initializing T5ForConditionalGeneration: ['decoder.block.0.layer.1.EncDecAttention.relative_attention_bias.weight']\n",
            "- This IS expected if you are initializing T5ForConditionalGeneration from the checkpoint of a model trained on another task or with another architecture (e.g. initializing a BertForSequenceClassification model from a BertForPreTraining model).\n",
            "- This IS NOT expected if you are initializing T5ForConditionalGeneration from the checkpoint of a model that you expect to be exactly identical (initializing a BertForSequenceClassification model from a BertForSequenceClassification model).\n"
          ]
        },
        {
          "name": "stdout",
          "output_type": "stream",
          "text": [
            "CPU times: user 2min 29s, sys: 34.8 s, total: 3min 3s\n",
            "Wall time: 5min 27s\n"
          ]
        }
      ],
      "source": [
        "%%time\n",
        "device = torch.device(\"cuda\" if torch.cuda.is_available() else \"cpu\")\n",
        "from transformers import AutoTokenizer, AutoModelForSeq2SeqLM, AutoModelWithLMHead\n",
        "\n",
        "easy_train_file_path = '/notebooks/easy_training.csv'\n",
        "easy_validation_file_path = '/notebooks/easy_testing.csv'\n",
        "\n",
        "challenge_train_file_path = '/notebooks/challenge_training.csv'\n",
        "challenge_validation_file_path = '/notebooks/challenge_testing.csv'\n",
        "\n",
        "saved_model_path = '/notebooks/t5/model/'\n",
        "saved_trained_tokenizer = '/notebooks/t5/tokenizer/'\n",
        "\n",
        "epochs = 5\n",
        "\n",
        "model_name = \"allenai/unifiedqa-t5-3b\"\n",
        "\n",
        "# df_name = 'easy'\n",
        "\n",
        "t5_tokenizer = AutoTokenizer.from_pretrained(model_name)\n",
        "t5_model = AutoModelForSeq2SeqLM.from_pretrained(model_name)\n",
        "\n",
        "\n",
        "    \n",
        "# training_schedule(easy_training,saved_model_path,saved_trained_tokenizer,easy_train_file_path,easy_validation_file_path,t5_tokenizer,t5_model,epochs)\n",
        "# predicting_schedule(easy_testing,saved_model_path,saved_trained_tokenizer,model_name,df_name,device)\n",
        "\n"
      ]
    },
    {
      "cell_type": "code",
      "execution_count": null,
      "metadata": {
        "execution": {
          "iopub.execute_input": "2023-01-27T19:19:45.888525Z",
          "iopub.status.busy": "2023-01-27T19:19:45.887561Z",
          "iopub.status.idle": "2023-01-27T19:41:42.569917Z",
          "shell.execute_reply": "2023-01-27T19:41:42.569095Z",
          "shell.execute_reply.started": "2023-01-27T19:19:45.888490Z"
        },
        "id": "gWD318CxhzzI",
        "colab": {
          "referenced_widgets": [
            "db2b4e5a80954de6a247802c3942a221",
            "d5d8c121d8ce44ed806e6538e36a76ab",
            "0e64803d830b4b989fb0635be7b5900d",
            "06a04498fd794cc8abf8619c20441f20",
            "4216951eb48f467dbb8e33cd7ff2d56e",
            "64303993d19d40c8a69a456b1276fb6d",
            "44c7295f2be24d618dc975d3b8d102f8",
            "bb5e1bdedf3640a68552b8442341f81d",
            "ed1ae638ed0041bf944fce0c53798c7b"
          ]
        },
        "outputId": "bb51c13d-71d6-4368-9065-a994fad68630"
      },
      "outputs": [
        {
          "name": "stdout",
          "output_type": "stream",
          "text": [
            "Preparing the Train_Dataset\n"
          ]
        },
        {
          "data": {
            "application/vnd.jupyter.widget-view+json": {
              "model_id": "db2b4e5a80954de6a247802c3942a221",
              "version_major": 2,
              "version_minor": 0
            },
            "text/plain": [
              "  0%|          | 0/1418 [00:00<?, ?it/s]"
            ]
          },
          "metadata": {},
          "output_type": "display_data"
        },
        {
          "name": "stderr",
          "output_type": "stream",
          "text": [
            "Truncation was not explicitly activated but `max_length` is provided a specific value, please use `truncation=True` to explicitly truncate examples to max length. Defaulting to 'longest_first' truncation strategy. If you encode pairs of sequences (GLUE-style) with the tokenizer you can select this strategy more precisely by providing a specific strategy to `truncation`.\n",
            "/usr/local/lib/python3.9/dist-packages/transformers/tokenization_utils_base.py:2173: FutureWarning: The `pad_to_max_length` argument is deprecated and will be removed in a future version, use `padding=True` or `padding='longest'` to pad to the longest sequence in the batch, or use `padding='max_length'` to pad to a max length. In this case, you can give a specific length with `max_length` (e.g. `max_length=45`) or leave max_length to None to pad to the maximal input size of the model (e.g. 512 for Bert).\n",
            "  warnings.warn(\n",
            "Token indices sequence length is longer than the specified maximum sequence length for this model (574 > 512). Running this sequence through the model will result in indexing errors\n"
          ]
        },
        {
          "name": "stdout",
          "output_type": "stream",
          "text": [
            "Preparing the Validation_Dataset\n"
          ]
        },
        {
          "data": {
            "application/vnd.jupyter.widget-view+json": {
              "model_id": "d5d8c121d8ce44ed806e6538e36a76ab",
              "version_major": 2,
              "version_minor": 0
            },
            "text/plain": [
              "  0%|          | 0/1172 [00:00<?, ?it/s]"
            ]
          },
          "metadata": {},
          "output_type": "display_data"
        },
        {
          "name": "stderr",
          "output_type": "stream",
          "text": [
            "/usr/local/lib/python3.9/dist-packages/transformers/tokenization_utils_base.py:2173: FutureWarning: The `pad_to_max_length` argument is deprecated and will be removed in a future version, use `padding=True` or `padding='longest'` to pad to the longest sequence in the batch, or use `padding='max_length'` to pad to a max length. In this case, you can give a specific length with `max_length` (e.g. `max_length=45`) or leave max_length to None to pad to the maximal input size of the model (e.g. 512 for Bert).\n",
            "  warnings.warn(\n",
            "GPU available: True, used: True\n",
            "TPU available: False, using: 0 TPU cores\n",
            "LOCAL_RANK: 0 - CUDA_VISIBLE_DEVICES: [0]\n",
            "\n",
            "  | Name  | Type                       | Params\n",
            "-----------------------------------------------------\n",
            "0 | model | T5ForConditionalGeneration | 2.9 B \n",
            "-----------------------------------------------------\n",
            "2.9 B     Trainable params\n",
            "0         Non-trainable params\n",
            "2.9 B     Total params\n",
            "11,406.393Total estimated model params size (MB)\n"
          ]
        },
        {
          "data": {
            "application/vnd.jupyter.widget-view+json": {
              "model_id": "0e64803d830b4b989fb0635be7b5900d",
              "version_major": 2,
              "version_minor": 0
            },
            "text/plain": [
              "Validation sanity check: 0it [00:00, ?it/s]"
            ]
          },
          "metadata": {},
          "output_type": "display_data"
        },
        {
          "data": {
            "application/vnd.jupyter.widget-view+json": {
              "model_id": "06a04498fd794cc8abf8619c20441f20",
              "version_major": 2,
              "version_minor": 0
            },
            "text/plain": [
              "Training: 0it [00:00, ?it/s]"
            ]
          },
          "metadata": {},
          "output_type": "display_data"
        },
        {
          "data": {
            "application/vnd.jupyter.widget-view+json": {
              "model_id": "4216951eb48f467dbb8e33cd7ff2d56e",
              "version_major": 2,
              "version_minor": 0
            },
            "text/plain": [
              "Validating: 0it [00:00, ?it/s]"
            ]
          },
          "metadata": {},
          "output_type": "display_data"
        },
        {
          "data": {
            "application/vnd.jupyter.widget-view+json": {
              "model_id": "64303993d19d40c8a69a456b1276fb6d",
              "version_major": 2,
              "version_minor": 0
            },
            "text/plain": [
              "Validating: 0it [00:00, ?it/s]"
            ]
          },
          "metadata": {},
          "output_type": "display_data"
        },
        {
          "data": {
            "application/vnd.jupyter.widget-view+json": {
              "model_id": "44c7295f2be24d618dc975d3b8d102f8",
              "version_major": 2,
              "version_minor": 0
            },
            "text/plain": [
              "Validating: 0it [00:00, ?it/s]"
            ]
          },
          "metadata": {},
          "output_type": "display_data"
        },
        {
          "data": {
            "application/vnd.jupyter.widget-view+json": {
              "model_id": "bb5e1bdedf3640a68552b8442341f81d",
              "version_major": 2,
              "version_minor": 0
            },
            "text/plain": [
              "Validating: 0it [00:00, ?it/s]"
            ]
          },
          "metadata": {},
          "output_type": "display_data"
        },
        {
          "data": {
            "application/vnd.jupyter.widget-view+json": {
              "model_id": "ed1ae638ed0041bf944fce0c53798c7b",
              "version_major": 2,
              "version_minor": 0
            },
            "text/plain": [
              "Validating: 0it [00:00, ?it/s]"
            ]
          },
          "metadata": {},
          "output_type": "display_data"
        },
        {
          "name": "stdout",
          "output_type": "stream",
          "text": [
            "Saving model\n",
            "device  cuda\n"
          ]
        },
        {
          "name": "stderr",
          "output_type": "stream",
          "text": [
            "/usr/local/lib/python3.9/dist-packages/transformers/models/t5/tokenization_t5.py:183: UserWarning: This sequence already has </s>. In future versions this behavior may lead to duplicated eos tokens being added.\n",
            "  warnings.warn(\n",
            "/usr/local/lib/python3.9/dist-packages/torch/_tensor.py:575: UserWarning: floor_divide is deprecated, and will be removed in a future version of pytorch. It currently rounds toward 0 (like the 'trunc' function NOT 'floor'). This results in incorrect rounding for negative values.\n",
            "To keep the current behavior, use torch.div(a, b, rounding_mode='trunc'), or for actual floor division, use torch.div(a, b, rounding_mode='floor'). (Triggered internally at  /pytorch/aten/src/ATen/native/BinaryOps.cpp:467.)\n",
            "  return torch.floor_divide(self, other)\n"
          ]
        },
        {
          "name": "stdout",
          "output_type": "stream",
          "text": [
            "Iteration in answer is: 0\n",
            "Iteration in answer is: 50\n",
            "Iteration in answer is: 100\n",
            "Iteration in answer is: 150\n",
            "Iteration in answer is: 200\n",
            "Iteration in answer is: 250\n",
            "Iteration in answer is: 300\n",
            "Iteration in answer is: 350\n",
            "Iteration in answer is: 400\n",
            "Iteration in answer is: 450\n",
            "Iteration in answer is: 500\n",
            "Iteration in answer is: 550\n",
            "Iteration in answer is: 600\n",
            "Iteration in answer is: 650\n",
            "Iteration in answer is: 700\n",
            "Iteration in answer is: 750\n",
            "Iteration in answer is: 800\n",
            "Iteration in answer is: 850\n",
            "Iteration in answer is: 900\n",
            "Iteration in answer is: 950\n",
            "Iteration in answer is: 1000\n",
            "Iteration in answer is: 1050\n",
            "Iteration in answer is: 1100\n",
            "Iteration in answer is: 1150\n",
            "File Saved to : /notebooks/unifiedqa-t5-3b_challenge.csv\n",
            "CPU times: user 18min 47s, sys: 5min 15s, total: 24min 2s\n",
            "Wall time: 21min 56s\n"
          ]
        }
      ],
      "source": [
        "%%time\n",
        "\n",
        "df_name = 'challenge'\n",
        "  \n",
        "training_schedule(challenge_training,saved_model_path,saved_trained_tokenizer,challenge_train_file_path,challenge_validation_file_path,t5_tokenizer,t5_model,epochs)\n",
        "predicting_schedule(challenge_testing,saved_model_path,saved_trained_tokenizer,model_name,df_name,device)\n"
      ]
    },
    {
      "cell_type": "code",
      "execution_count": null,
      "metadata": {
        "id": "dEZD7mhOTcM4"
      },
      "outputs": [],
      "source": []
    },
    {
      "cell_type": "code",
      "execution_count": null,
      "metadata": {
        "id": "FRy4Sb1OTcM5"
      },
      "outputs": [],
      "source": []
    },
    {
      "cell_type": "code",
      "execution_count": null,
      "metadata": {
        "id": "e8HqPQt6TcM5"
      },
      "outputs": [],
      "source": []
    },
    {
      "cell_type": "code",
      "execution_count": null,
      "metadata": {
        "id": "RhGshY3KTcM5"
      },
      "outputs": [],
      "source": []
    },
    {
      "cell_type": "code",
      "execution_count": null,
      "metadata": {
        "id": "1fOiJyCRTcM5"
      },
      "outputs": [],
      "source": []
    },
    {
      "cell_type": "code",
      "execution_count": null,
      "metadata": {
        "id": "HpgLdK7NTcM5"
      },
      "outputs": [],
      "source": []
    },
    {
      "cell_type": "code",
      "execution_count": null,
      "metadata": {
        "id": "HFUSGlNfTcM5"
      },
      "outputs": [],
      "source": []
    }
  ],
  "metadata": {
    "accelerator": "GPU",
    "colab": {
      "machine_shape": "hm",
      "provenance": []
    },
    "gpuClass": "standard",
    "kernelspec": {
      "display_name": "Python 3 (ipykernel)",
      "language": "python",
      "name": "python3"
    },
    "language_info": {
      "codemirror_mode": {
        "name": "ipython",
        "version": 3
      },
      "file_extension": ".py",
      "mimetype": "text/x-python",
      "name": "python",
      "nbconvert_exporter": "python",
      "pygments_lexer": "ipython3",
      "version": "3.9.13"
    }
  },
  "nbformat": 4,
  "nbformat_minor": 0
}